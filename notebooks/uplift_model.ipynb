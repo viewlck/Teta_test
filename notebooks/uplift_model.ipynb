{
 "cells": [
  {
   "cell_type": "code",
   "execution_count": 10,
   "metadata": {},
   "outputs": [],
   "source": [
    "import pandas as pd\n",
    "import numpy as np\n",
    "from sklearn.model_selection import train_test_split\n",
    "from catboost import CatBoostClassifier\n",
    "from sklift.models import TwoModels, ClassTransformation\n",
    "from sklift.metrics import uplift_at_k\n",
    "from scipy.stats import ttest_rel\n",
    "from sklift.viz import plot_qini_curve\n",
    "import optuna\n",
    "from sklift.viz import plot_uplift_by_percentile\n",
    "import warnings\n",
    "warnings.filterwarnings('ignore')"
   ]
  },
  {
   "cell_type": "markdown",
   "metadata": {},
   "source": [
    "## Построение ML модели"
   ]
  },
  {
   "cell_type": "code",
   "execution_count": 11,
   "metadata": {},
   "outputs": [],
   "source": [
    "# Импорт данных\n",
    "from sklift.datasets import fetch_x5\n",
    "dataset = fetch_x5()\n",
    "\n",
    "clients_df = dataset.data.clients\n",
    "clients_df = clients_df.set_index('client_id')\n",
    "\n",
    "purchases_df = dataset.data.purchases\n",
    "purchases_df = purchases_df.set_index('client_id')\n",
    "\n",
    "train_df = pd.DataFrame(data= np.c_[dataset.data.train, dataset.treatment, dataset.target],\n",
    "                     columns= dataset.feature_names.train_features)\n",
    "train_df = train_df.set_index('client_id')"
   ]
  },
  {
   "cell_type": "code",
   "execution_count": 12,
   "metadata": {},
   "outputs": [],
   "source": [
    "# Извлечение признаков\n",
    "features_df = clients_df.copy()\n",
    "features_df['first_issue_time'] = (pd.to_datetime(features_df['first_issue_date'])\n",
    "                                   - pd.Timestamp('1970-01-01')) // pd.Timedelta('1s')\n",
    "features_df['first_redeem_time'] = (pd.to_datetime(features_df['first_redeem_date'])\n",
    "                                   - pd.Timestamp('1970-01-01')) // pd.Timedelta('1s')\n",
    "features_df['issue_redeem_delay'] = features_df['first_redeem_time'] - features_df['first_issue_time']\n",
    "features_df = features_df.drop(['first_issue_date', 'first_redeem_date'], axis=1)\n",
    "\n",
    "avr_check = purchases_df.drop_duplicates('transaction_id').groupby('client_id')['purchase_sum'].mean()\n",
    "num_purchases = purchases_df.drop_duplicates('transaction_id').groupby('client_id')['transaction_id'].count()\n",
    "points_spent = -(purchases_df.drop_duplicates('transaction_id').groupby('client_id')['regular_points_spent'].sum() + purchases_df.drop_duplicates('transaction_id').groupby('client_id')['express_points_spent'].sum())\n",
    "num_stores = purchases_df.drop_duplicates('transaction_id').groupby('client_id')['store_id'].nunique()\n",
    "\n",
    "features_df['avr_check'] = features_df.index.map(avr_check)\n",
    "features_df['num_purchases'] = features_df.index.map(num_purchases)\n",
    "features_df['points_spent'] = features_df.index.map(points_spent)\n",
    "features_df['num_stores'] = features_df.index.map(num_stores) # Новый признак: кол-во уникально посещеных магазинов\n",
    "\n",
    "train_df = train_df.astype('int64')"
   ]
  },
  {
   "cell_type": "code",
   "execution_count": null,
   "metadata": {},
   "outputs": [],
   "source": [
    "# Проверка пропущенных значений в признаках\n",
    "features_df.isnull().sum()"
   ]
  },
  {
   "cell_type": "code",
   "execution_count": 5,
   "metadata": {},
   "outputs": [],
   "source": [
    "bad_data = features_df[(features_df['age'] > 120) | (features_df['age'] < 0) | (features_df['issue_redeem_delay'] < 0)].index"
   ]
  },
  {
   "cell_type": "code",
   "execution_count": 6,
   "metadata": {},
   "outputs": [],
   "source": [
    "# Избавляемся от некорректных строчек в feature и train\n",
    "features_df = features_df.drop(bad_data, axis=0)\n",
    "train_df = train_df.drop(train_df.index.intersection(bad_data), axis=0)"
   ]
  },
  {
   "cell_type": "markdown",
   "metadata": {},
   "source": [
    "После серии эксперементов, было обнаружено, что если заменить пропущенные значения на максимальные, модель будет учитывать сгенерированный выброс, что ухудшает качество."
   ]
  },
  {
   "cell_type": "code",
   "execution_count": 7,
   "metadata": {},
   "outputs": [],
   "source": [
    "drop_nan = features_df[features_df.isnull().any(1)].index"
   ]
  },
  {
   "cell_type": "code",
   "execution_count": 8,
   "metadata": {},
   "outputs": [],
   "source": [
    "# Выбрасываем строчки с NaN\n",
    "features_df.drop(labels=drop_nan, axis=0, inplace=True)\n",
    "train_df.drop(train_df.index.intersection(drop_nan), axis=0, inplace=True)"
   ]
  },
  {
   "cell_type": "code",
   "execution_count": 9,
   "metadata": {},
   "outputs": [],
   "source": [
    "# Заменяем пропущенные значения в first_redeem_time и issue_redeem_delay на максимальные\n",
    "# features_df['first_redeem_time'] = features_df['first_redeem_time'].fillna(features_df['first_redeem_time'].max())\n",
    "# features_df['issue_redeem_delay'] = features_df['first_redeem_time'] - features_df['first_issue_time']"
   ]
  },
  {
   "cell_type": "code",
   "execution_count": 10,
   "metadata": {},
   "outputs": [
    {
     "data": {
      "text/plain": [
       "age                   0\n",
       "gender                0\n",
       "first_issue_time      0\n",
       "first_redeem_time     0\n",
       "issue_redeem_delay    0\n",
       "avr_check             0\n",
       "num_purchases         0\n",
       "points_spent          0\n",
       "num_stores            0\n",
       "dtype: int64"
      ]
     },
     "execution_count": 10,
     "metadata": {},
     "output_type": "execute_result"
    }
   ],
   "source": [
    "features_df.isnull().sum()"
   ]
  },
  {
   "cell_type": "code",
   "execution_count": 11,
   "metadata": {},
   "outputs": [],
   "source": [
    "# Создание hold out выборки\n",
    "indices_learn, indices_valid = train_test_split(train_df.index, test_size=0.20)\n",
    "\n",
    "X_train = features_df.loc[indices_learn, :]\n",
    "y_train = train_df.loc[indices_learn, 'target']\n",
    "treat_train = train_df.loc[indices_learn, 'treatment_flg']\n",
    "\n",
    "X_ho = features_df.loc[indices_valid, :]\n",
    "y_ho = train_df.loc[indices_valid, 'target']\n",
    "treat_ho = train_df.loc[indices_valid, 'treatment_flg']"
   ]
  },
  {
   "cell_type": "markdown",
   "metadata": {},
   "source": [
    "Оценим насколько трансформация классов будет \"стабильно\" лучше метода двух моделей. Для этого посчитаем t-критерий Стьюдента для связанных выборок и p-value."
   ]
  },
  {
   "cell_type": "code",
   "execution_count": 12,
   "metadata": {},
   "outputs": [],
   "source": [
    "# Для CatBoost\n",
    "cat_features = ['gender']\n",
    "\n",
    "model1 = TwoModels(\n",
    "    estimator_trmnt = CatBoostClassifier(num_trees=30, random_state=321, nan_mode='Forbidden', logging_level='Silent'),\n",
    "    estimator_ctrl = CatBoostClassifier(num_trees=30, random_state=321, nan_mode='Forbidden', logging_level='Silent'),\n",
    "    method = 'vanilla'\n",
    ")\n",
    "model2 = ClassTransformation(CatBoostClassifier(num_trees=30, random_state=321, nan_mode='Forbidden', logging_level='Silent'))\n",
    "\n",
    "scores_two_models = np.array([])\n",
    "scores_ct_model = np.array([])\n",
    "\n",
    "for i in range(30):\n",
    "    \n",
    "    train_indices, test_indices = train_test_split(y_train.index, test_size=0.3, random_state=i*10)\n",
    "        \n",
    "    train_x = X_train.loc[train_indices, :]\n",
    "    train_y = y_train.loc[train_indices]\n",
    "    train_treat = treat_train.loc[train_indices]\n",
    "\n",
    "    test_x = X_train.loc[test_indices, :]\n",
    "    test_y = y_train.loc[test_indices]\n",
    "    test_treat = treat_train.loc[test_indices]\n",
    "\n",
    "    model1 = model1.fit(\n",
    "        train_x, train_y, train_treat,\n",
    "        estimator_trmnt_fit_params={'cat_features': cat_features}, \n",
    "        estimator_ctrl_fit_params={'cat_features': cat_features}\n",
    "    )\n",
    "\n",
    "    uplift_model1 = model1.predict(test_x)\n",
    "    uplift_at_score1 = uplift_at_k(y_true=test_y, uplift=uplift_model1, treatment=test_treat, strategy='overall', k=0.3)\n",
    "\n",
    "    scores_two_models = np.append(scores_two_models, uplift_at_score1)\n",
    "\n",
    "    model2 = model2.fit(\n",
    "        train_x, train_y, train_treat,\n",
    "        estimator_fit_params={'cat_features': cat_features},\n",
    "    )\n",
    "\n",
    "    uplift_model2 = model2.predict(test_x)\n",
    "    uplift_at_score2 = uplift_at_k(y_true=test_y, uplift=uplift_model2, treatment=test_treat, strategy='overall', k=0.3)\n",
    "\n",
    "    scores_ct_model = np.append(scores_ct_model, uplift_at_score2)"
   ]
  },
  {
   "cell_type": "code",
   "execution_count": 13,
   "metadata": {},
   "outputs": [
    {
     "data": {
      "text/plain": [
       "Ttest_relResult(statistic=-1.3120392690454925, pvalue=0.19979820436248402)"
      ]
     },
     "execution_count": 13,
     "metadata": {},
     "output_type": "execute_result"
    }
   ],
   "source": [
    "ttest_rel(scores_two_models, scores_ct_model) "
   ]
  },
  {
   "cell_type": "markdown",
   "metadata": {},
   "source": [
    "Как видим, p-value не позволяет отвергнуть нулевую гипотезу, так что будем применять метод с двумя независимыми моделями."
   ]
  },
  {
   "cell_type": "code",
   "execution_count": 14,
   "metadata": {},
   "outputs": [],
   "source": [
    "# Подбор гиперпараметров, используя библиотеку Optuna\n",
    "def objective(trial):\n",
    "    train_indices, test_indices = train_test_split(y_train.index, test_size=0.3)\n",
    "    \n",
    "    train_x = X_train.loc[train_indices, :]\n",
    "    train_y = y_train.loc[train_indices]\n",
    "    train_treat = treat_train.loc[train_indices]\n",
    "\n",
    "    test_x = X_train.loc[test_indices, :]\n",
    "    test_y = y_train.loc[test_indices]\n",
    "    test_treat = treat_train.loc[test_indices]\n",
    "    \n",
    "    params = {\n",
    "        'verbose': False,\n",
    "        'num_trees': trial.suggest_int('num_trees', 50, 150, step=10),\n",
    "        'learning_rate': trial.suggest_float('learning_rate', 0.01, 0.5, step=0.01),\n",
    "        'depth': trial.suggest_int('depth', 2, 8, step=2),\n",
    "        'l2_leaf_reg': trial.suggest_float('l2_leaf_reg', 1.0, 3.5, step=0.5)\n",
    "    }\n",
    "    \n",
    "    two_models = TwoModels(CatBoostClassifier(**params), CatBoostClassifier(**params))\n",
    "    two_models.fit(\n",
    "        train_x, train_y, train_treat,\n",
    "        estimator_trmnt_fit_params={'cat_features': cat_features},\n",
    "        estimator_ctrl_fit_params={'cat_features': cat_features}\n",
    "    )\n",
    "    \n",
    "    uplift_two_models = two_models.predict(test_x)\n",
    "    uplift_tm_score = uplift_at_k(y_true=test_y, uplift=uplift_two_models, treatment=test_treat, strategy='overall', k=0.3)\n",
    "    return uplift_tm_score"
   ]
  },
  {
   "cell_type": "code",
   "execution_count": 15,
   "metadata": {
    "scrolled": true
   },
   "outputs": [
    {
     "name": "stderr",
     "output_type": "stream",
     "text": [
      "\u001b[32m[I 2021-08-25 16:04:56,040]\u001b[0m A new study created in memory with name: no-name-4967d857-a19a-4dc7-a7c3-8f0667cc6b46\u001b[0m\n"
     ]
    },
    {
     "data": {
      "application/vnd.jupyter.widget-view+json": {
       "model_id": "6dbe8e42e59d44a78abaf7129125158e",
       "version_major": 2,
       "version_minor": 0
      },
      "text/plain": [
       "HBox(children=(HTML(value=''), FloatProgress(value=1.0, bar_style='info', layout=Layout(width='20px'), max=1.0…"
      ]
     },
     "metadata": {},
     "output_type": "display_data"
    },
    {
     "name": "stdout",
     "output_type": "stream",
     "text": [
      "\u001b[32m[I 2021-08-25 16:05:12,141]\u001b[0m Trial 0 finished with value: 0.0750870645444579 and parameters: {'num_trees': 130, 'learning_rate': 0.01, 'depth': 6, 'l2_leaf_reg': 1.5}. Best is trial 0 with value: 0.0750870645444579.\u001b[0m\n",
      "\u001b[32m[I 2021-08-25 16:05:17,439]\u001b[0m Trial 1 finished with value: 0.07475408056691446 and parameters: {'num_trees': 100, 'learning_rate': 0.12, 'depth': 2, 'l2_leaf_reg': 2.0}. Best is trial 0 with value: 0.0750870645444579.\u001b[0m\n",
      "\u001b[32m[I 2021-08-25 16:05:30,671]\u001b[0m Trial 2 finished with value: 0.08453176028353493 and parameters: {'num_trees': 150, 'learning_rate': 0.18000000000000002, 'depth': 4, 'l2_leaf_reg': 2.0}. Best is trial 2 with value: 0.08453176028353493.\u001b[0m\n",
      "\u001b[32m[I 2021-08-25 16:05:45,517]\u001b[0m Trial 3 finished with value: 0.060852281922452844 and parameters: {'num_trees': 90, 'learning_rate': 0.31, 'depth': 8, 'l2_leaf_reg': 3.0}. Best is trial 2 with value: 0.08453176028353493.\u001b[0m\n",
      "\u001b[32m[I 2021-08-25 16:06:01,134]\u001b[0m Trial 4 finished with value: 0.08228768326697466 and parameters: {'num_trees': 130, 'learning_rate': 0.09, 'depth': 6, 'l2_leaf_reg': 3.0}. Best is trial 2 with value: 0.08453176028353493.\u001b[0m\n",
      "\u001b[32m[I 2021-08-25 16:06:12,167]\u001b[0m Trial 5 finished with value: 0.08316325052445495 and parameters: {'num_trees': 90, 'learning_rate': 0.05, 'depth': 6, 'l2_leaf_reg': 1.0}. Best is trial 2 with value: 0.08453176028353493.\u001b[0m\n",
      "\u001b[32m[I 2021-08-25 16:06:17,911]\u001b[0m Trial 6 finished with value: 0.08667691694666402 and parameters: {'num_trees': 60, 'learning_rate': 0.41000000000000003, 'depth': 4, 'l2_leaf_reg': 3.0}. Best is trial 6 with value: 0.08667691694666402.\u001b[0m\n",
      "\u001b[32m[I 2021-08-25 16:06:27,046]\u001b[0m Trial 7 finished with value: 0.07795613138935886 and parameters: {'num_trees': 50, 'learning_rate': 0.21000000000000002, 'depth': 8, 'l2_leaf_reg': 2.0}. Best is trial 6 with value: 0.08667691694666402.\u001b[0m\n",
      "\u001b[32m[I 2021-08-25 16:06:33,848]\u001b[0m Trial 8 finished with value: 0.08687411237526454 and parameters: {'num_trees': 50, 'learning_rate': 0.41000000000000003, 'depth': 6, 'l2_leaf_reg': 1.5}. Best is trial 8 with value: 0.08687411237526454.\u001b[0m\n",
      "\u001b[32m[I 2021-08-25 16:06:41,656]\u001b[0m Trial 9 finished with value: 0.07414147708696028 and parameters: {'num_trees': 140, 'learning_rate': 0.34, 'depth': 2, 'l2_leaf_reg': 1.5}. Best is trial 8 with value: 0.08687411237526454.\u001b[0m\n",
      "\u001b[32m[I 2021-08-25 16:06:54,529]\u001b[0m Trial 10 finished with value: 0.059553806962351574 and parameters: {'num_trees': 70, 'learning_rate': 0.49, 'depth': 8, 'l2_leaf_reg': 1.0}. Best is trial 8 with value: 0.08687411237526454.\u001b[0m\n",
      "\u001b[32m[I 2021-08-25 16:06:59,694]\u001b[0m Trial 11 finished with value: 0.0642481603603815 and parameters: {'num_trees': 50, 'learning_rate': 0.48000000000000004, 'depth': 4, 'l2_leaf_reg': 3.5}. Best is trial 8 with value: 0.08687411237526454.\u001b[0m\n",
      "\u001b[32m[I 2021-08-25 16:07:06,753]\u001b[0m Trial 12 finished with value: 0.07429665490175763 and parameters: {'num_trees': 70, 'learning_rate': 0.4, 'depth': 4, 'l2_leaf_reg': 3.0}. Best is trial 8 with value: 0.08687411237526454.\u001b[0m\n",
      "\u001b[32m[I 2021-08-25 16:07:13,495]\u001b[0m Trial 13 finished with value: 0.07488247011265792 and parameters: {'num_trees': 70, 'learning_rate': 0.39, 'depth': 4, 'l2_leaf_reg': 2.5}. Best is trial 8 with value: 0.08687411237526454.\u001b[0m\n",
      "\u001b[32m[I 2021-08-25 16:07:20,446]\u001b[0m Trial 14 finished with value: 0.06888304088666142 and parameters: {'num_trees': 50, 'learning_rate': 0.42000000000000004, 'depth': 6, 'l2_leaf_reg': 3.5}. Best is trial 8 with value: 0.08687411237526454.\u001b[0m\n",
      "\u001b[32m[I 2021-08-25 16:07:24,399]\u001b[0m Trial 15 finished with value: 0.07058632514430363 and parameters: {'num_trees': 70, 'learning_rate': 0.3, 'depth': 2, 'l2_leaf_reg': 2.5}. Best is trial 8 with value: 0.08687411237526454.\u001b[0m\n",
      "\u001b[32m[I 2021-08-25 16:07:32,250]\u001b[0m Trial 16 finished with value: 0.074999627269 and parameters: {'num_trees': 60, 'learning_rate': 0.24000000000000002, 'depth': 6, 'l2_leaf_reg': 1.5}. Best is trial 8 with value: 0.08687411237526454.\u001b[0m\n",
      "\u001b[32m[I 2021-08-25 16:07:42,614]\u001b[0m Trial 17 finished with value: 0.06626943355830217 and parameters: {'num_trees': 110, 'learning_rate': 0.43, 'depth': 4, 'l2_leaf_reg': 2.5}. Best is trial 8 with value: 0.08687411237526454.\u001b[0m\n",
      "\u001b[32m[I 2021-08-25 16:07:50,493]\u001b[0m Trial 18 finished with value: 0.08052470799489964 and parameters: {'num_trees': 80, 'learning_rate': 0.34, 'depth': 4, 'l2_leaf_reg': 3.0}. Best is trial 8 with value: 0.08687411237526454.\u001b[0m\n",
      "\u001b[32m[I 2021-08-25 16:07:58,590]\u001b[0m Trial 19 finished with value: 0.07843344881537773 and parameters: {'num_trees': 60, 'learning_rate': 0.44, 'depth': 6, 'l2_leaf_reg': 1.5}. Best is trial 8 with value: 0.08687411237526454.\u001b[0m\n",
      "\u001b[32m[I 2021-08-25 16:08:04,090]\u001b[0m Trial 20 finished with value: 0.08610887264457212 and parameters: {'num_trees': 110, 'learning_rate': 0.36000000000000004, 'depth': 2, 'l2_leaf_reg': 1.0}. Best is trial 8 with value: 0.08687411237526454.\u001b[0m\n",
      "\u001b[32m[I 2021-08-25 16:08:09,683]\u001b[0m Trial 21 finished with value: 0.08219568985731884 and parameters: {'num_trees': 110, 'learning_rate': 0.38, 'depth': 2, 'l2_leaf_reg': 1.0}. Best is trial 8 with value: 0.08687411237526454.\u001b[0m\n",
      "\u001b[32m[I 2021-08-25 16:08:15,062]\u001b[0m Trial 22 finished with value: 0.08220514175324645 and parameters: {'num_trees': 110, 'learning_rate': 0.28, 'depth': 2, 'l2_leaf_reg': 1.0}. Best is trial 8 with value: 0.08687411237526454.\u001b[0m\n",
      "\u001b[32m[I 2021-08-25 16:08:20,848]\u001b[0m Trial 23 finished with value: 0.05814444553331688 and parameters: {'num_trees': 120, 'learning_rate': 0.35000000000000003, 'depth': 2, 'l2_leaf_reg': 1.5}. Best is trial 8 with value: 0.08687411237526454.\u001b[0m\n",
      "\u001b[32m[I 2021-08-25 16:08:29,356]\u001b[0m Trial 24 finished with value: 0.06751169704554227 and parameters: {'num_trees': 90, 'learning_rate': 0.45, 'depth': 4, 'l2_leaf_reg': 1.0}. Best is trial 8 with value: 0.08687411237526454.\u001b[0m\n",
      "\u001b[32m[I 2021-08-25 16:08:36,856]\u001b[0m Trial 25 finished with value: 0.06766981123249927 and parameters: {'num_trees': 60, 'learning_rate': 0.37, 'depth': 6, 'l2_leaf_reg': 2.0}. Best is trial 8 with value: 0.08687411237526454.\u001b[0m\n",
      "\u001b[32m[I 2021-08-25 16:08:44,398]\u001b[0m Trial 26 finished with value: 0.0733094854712435 and parameters: {'num_trees': 80, 'learning_rate': 0.5, 'depth': 4, 'l2_leaf_reg': 1.5}. Best is trial 8 with value: 0.08687411237526454.\u001b[0m\n",
      "\u001b[32m[I 2021-08-25 16:08:49,687]\u001b[0m Trial 27 finished with value: 0.06809537633380458 and parameters: {'num_trees': 100, 'learning_rate': 0.46, 'depth': 2, 'l2_leaf_reg': 3.5}. Best is trial 8 with value: 0.08687411237526454.\u001b[0m\n",
      "\u001b[32m[I 2021-08-25 16:09:09,238]\u001b[0m Trial 28 finished with value: 0.06272056292035888 and parameters: {'num_trees': 120, 'learning_rate': 0.25, 'depth': 8, 'l2_leaf_reg': 1.0}. Best is trial 8 with value: 0.08687411237526454.\u001b[0m\n",
      "\u001b[32m[I 2021-08-25 16:09:19,018]\u001b[0m Trial 29 finished with value: 0.07213046055729533 and parameters: {'num_trees': 80, 'learning_rate': 0.4, 'depth': 6, 'l2_leaf_reg': 2.5}. Best is trial 8 with value: 0.08687411237526454.\u001b[0m\n",
      "\u001b[32m[I 2021-08-25 16:09:23,749]\u001b[0m Trial 30 finished with value: 0.05802873393517449 and parameters: {'num_trees': 50, 'learning_rate': 0.32, 'depth': 4, 'l2_leaf_reg': 2.0}. Best is trial 8 with value: 0.08687411237526454.\u001b[0m\n",
      "\u001b[32m[I 2021-08-25 16:09:36,678]\u001b[0m Trial 31 finished with value: 0.08031943266655528 and parameters: {'num_trees': 150, 'learning_rate': 0.19, 'depth': 4, 'l2_leaf_reg': 2.0}. Best is trial 8 with value: 0.08687411237526454.\u001b[0m\n",
      "\u001b[32m[I 2021-08-25 16:09:49,103]\u001b[0m Trial 32 finished with value: 0.0851461325042101 and parameters: {'num_trees': 150, 'learning_rate': 0.2, 'depth': 4, 'l2_leaf_reg': 1.5}. Best is trial 8 with value: 0.08687411237526454.\u001b[0m\n",
      "\u001b[32m[I 2021-08-25 16:09:55,702]\u001b[0m Trial 33 finished with value: 0.08142076609763815 and parameters: {'num_trees': 140, 'learning_rate': 0.17, 'depth': 2, 'l2_leaf_reg': 1.5}. Best is trial 8 with value: 0.08687411237526454.\u001b[0m\n",
      "\u001b[32m[I 2021-08-25 16:10:07,580]\u001b[0m Trial 34 finished with value: 0.08133809790771618 and parameters: {'num_trees': 140, 'learning_rate': 0.14, 'depth': 4, 'l2_leaf_reg': 1.0}. Best is trial 8 with value: 0.08687411237526454.\u001b[0m\n",
      "\u001b[32m[I 2021-08-25 16:10:23,473]\u001b[0m Trial 35 finished with value: 0.08123185062290461 and parameters: {'num_trees': 130, 'learning_rate': 0.28, 'depth': 6, 'l2_leaf_reg': 1.5}. Best is trial 8 with value: 0.08687411237526454.\u001b[0m\n"
     ]
    },
    {
     "name": "stdout",
     "output_type": "stream",
     "text": [
      "\u001b[32m[I 2021-08-25 16:10:32,452]\u001b[0m Trial 36 finished with value: 0.05764366603951654 and parameters: {'num_trees': 100, 'learning_rate': 0.23, 'depth': 4, 'l2_leaf_reg': 2.0}. Best is trial 8 with value: 0.08687411237526454.\u001b[0m\n",
      "\u001b[32m[I 2021-08-25 16:10:38,455]\u001b[0m Trial 37 finished with value: 0.08082939495412478 and parameters: {'num_trees': 120, 'learning_rate': 0.11, 'depth': 2, 'l2_leaf_reg': 1.5}. Best is trial 8 with value: 0.08687411237526454.\u001b[0m\n",
      "\u001b[32m[I 2021-08-25 16:10:46,039]\u001b[0m Trial 38 finished with value: 0.0774502712519548 and parameters: {'num_trees': 60, 'learning_rate': 0.03, 'depth': 6, 'l2_leaf_reg': 1.0}. Best is trial 8 with value: 0.08687411237526454.\u001b[0m\n",
      "\u001b[32m[I 2021-08-25 16:11:00,132]\u001b[0m Trial 39 finished with value: 0.05620738143629067 and parameters: {'num_trees': 90, 'learning_rate': 0.36000000000000004, 'depth': 8, 'l2_leaf_reg': 3.0}. Best is trial 8 with value: 0.08687411237526454.\u001b[0m\n",
      "\u001b[32m[I 2021-08-25 16:11:13,426]\u001b[0m Trial 40 finished with value: 0.08055980159284615 and parameters: {'num_trees': 150, 'learning_rate': 0.28, 'depth': 4, 'l2_leaf_reg': 1.5}. Best is trial 8 with value: 0.08687411237526454.\u001b[0m\n",
      "\u001b[32m[I 2021-08-25 16:11:26,042]\u001b[0m Trial 41 finished with value: 0.08385680237789672 and parameters: {'num_trees': 150, 'learning_rate': 0.17, 'depth': 4, 'l2_leaf_reg': 2.0}. Best is trial 8 with value: 0.08687411237526454.\u001b[0m\n",
      "\u001b[32m[I 2021-08-25 16:11:37,741]\u001b[0m Trial 42 finished with value: 0.0877298698563973 and parameters: {'num_trees': 130, 'learning_rate': 0.2, 'depth': 4, 'l2_leaf_reg': 2.0}. Best is trial 42 with value: 0.0877298698563973.\u001b[0m\n",
      "\u001b[32m[I 2021-08-25 16:11:49,188]\u001b[0m Trial 43 finished with value: 0.08267549137491781 and parameters: {'num_trees': 130, 'learning_rate': 0.21000000000000002, 'depth': 4, 'l2_leaf_reg': 2.0}. Best is trial 42 with value: 0.0877298698563973.\u001b[0m\n",
      "\u001b[32m[I 2021-08-25 16:12:06,257]\u001b[0m Trial 44 finished with value: 0.08225719667963571 and parameters: {'num_trees': 140, 'learning_rate': 0.21000000000000002, 'depth': 6, 'l2_leaf_reg': 2.5}. Best is trial 42 with value: 0.0877298698563973.\u001b[0m\n",
      "\u001b[32m[I 2021-08-25 16:12:17,748]\u001b[0m Trial 45 finished with value: 0.07731838678638059 and parameters: {'num_trees': 130, 'learning_rate': 0.32, 'depth': 4, 'l2_leaf_reg': 2.0}. Best is trial 42 with value: 0.0877298698563973.\u001b[0m\n",
      "\u001b[32m[I 2021-08-25 16:12:23,609]\u001b[0m Trial 46 finished with value: 0.08787003220373901 and parameters: {'num_trees': 120, 'learning_rate': 0.06999999999999999, 'depth': 2, 'l2_leaf_reg': 1.0}. Best is trial 46 with value: 0.08787003220373901.\u001b[0m\n",
      "\u001b[32m[I 2021-08-25 16:12:29,320]\u001b[0m Trial 47 finished with value: 0.09265054087609148 and parameters: {'num_trees': 120, 'learning_rate': 0.06999999999999999, 'depth': 2, 'l2_leaf_reg': 1.0}. Best is trial 47 with value: 0.09265054087609148.\u001b[0m\n",
      "\u001b[32m[I 2021-08-25 16:12:34,972]\u001b[0m Trial 48 finished with value: 0.09041841384322935 and parameters: {'num_trees': 120, 'learning_rate': 0.14, 'depth': 2, 'l2_leaf_reg': 1.0}. Best is trial 47 with value: 0.09265054087609148.\u001b[0m\n",
      "\u001b[32m[I 2021-08-25 16:12:40,864]\u001b[0m Trial 49 finished with value: 0.07759598532780076 and parameters: {'num_trees': 120, 'learning_rate': 0.06999999999999999, 'depth': 2, 'l2_leaf_reg': 1.0}. Best is trial 47 with value: 0.09265054087609148.\u001b[0m\n",
      "\u001b[32m[I 2021-08-25 16:12:46,713]\u001b[0m Trial 50 finished with value: 0.08276061475189911 and parameters: {'num_trees': 120, 'learning_rate': 0.14, 'depth': 2, 'l2_leaf_reg': 1.0}. Best is trial 47 with value: 0.09265054087609148.\u001b[0m\n",
      "\u001b[32m[I 2021-08-25 16:12:52,881]\u001b[0m Trial 51 finished with value: 0.09116859785250447 and parameters: {'num_trees': 130, 'learning_rate': 0.06999999999999999, 'depth': 2, 'l2_leaf_reg': 1.0}. Best is trial 47 with value: 0.09265054087609148.\u001b[0m\n",
      "\u001b[32m[I 2021-08-25 16:12:59,051]\u001b[0m Trial 52 finished with value: 0.03685491501411814 and parameters: {'num_trees': 130, 'learning_rate': 0.01, 'depth': 2, 'l2_leaf_reg': 1.0}. Best is trial 47 with value: 0.09265054087609148.\u001b[0m\n",
      "\u001b[32m[I 2021-08-25 16:13:04,658]\u001b[0m Trial 53 finished with value: 0.08331483289204333 and parameters: {'num_trees': 120, 'learning_rate': 0.06999999999999999, 'depth': 2, 'l2_leaf_reg': 1.0}. Best is trial 47 with value: 0.09265054087609148.\u001b[0m\n",
      "\u001b[32m[I 2021-08-25 16:13:10,004]\u001b[0m Trial 54 finished with value: 0.10254231703106459 and parameters: {'num_trees': 110, 'learning_rate': 0.09, 'depth': 2, 'l2_leaf_reg': 1.0}. Best is trial 54 with value: 0.10254231703106459.\u001b[0m\n",
      "\u001b[32m[I 2021-08-25 16:13:15,582]\u001b[0m Trial 55 finished with value: 0.08135073634040157 and parameters: {'num_trees': 110, 'learning_rate': 0.09999999999999999, 'depth': 2, 'l2_leaf_reg': 1.0}. Best is trial 54 with value: 0.10254231703106459.\u001b[0m\n",
      "\u001b[32m[I 2021-08-25 16:13:22,273]\u001b[0m Trial 56 finished with value: 0.08583121932908555 and parameters: {'num_trees': 140, 'learning_rate': 0.08, 'depth': 2, 'l2_leaf_reg': 1.0}. Best is trial 54 with value: 0.10254231703106459.\u001b[0m\n",
      "\u001b[32m[I 2021-08-25 16:13:28,508]\u001b[0m Trial 57 finished with value: 0.07853186160535819 and parameters: {'num_trees': 130, 'learning_rate': 0.13, 'depth': 2, 'l2_leaf_reg': 1.0}. Best is trial 54 with value: 0.10254231703106459.\u001b[0m\n",
      "\u001b[32m[I 2021-08-25 16:13:33,765]\u001b[0m Trial 58 finished with value: 0.07061050058090668 and parameters: {'num_trees': 110, 'learning_rate': 0.05, 'depth': 2, 'l2_leaf_reg': 1.0}. Best is trial 54 with value: 0.10254231703106459.\u001b[0m\n",
      "\u001b[32m[I 2021-08-25 16:13:39,933]\u001b[0m Trial 59 finished with value: 0.08487306074237366 and parameters: {'num_trees': 130, 'learning_rate': 0.04, 'depth': 2, 'l2_leaf_reg': 1.5}. Best is trial 54 with value: 0.10254231703106459.\u001b[0m\n",
      "\u001b[32m[I 2021-08-25 16:13:44,870]\u001b[0m Trial 60 finished with value: 0.08090793224206771 and parameters: {'num_trees': 100, 'learning_rate': 0.15000000000000002, 'depth': 2, 'l2_leaf_reg': 1.0}. Best is trial 54 with value: 0.10254231703106459.\u001b[0m\n",
      "\u001b[32m[I 2021-08-25 16:13:50,593]\u001b[0m Trial 61 finished with value: 0.0853912999298021 and parameters: {'num_trees': 120, 'learning_rate': 0.09, 'depth': 2, 'l2_leaf_reg': 1.5}. Best is trial 54 with value: 0.10254231703106459.\u001b[0m\n",
      "\u001b[32m[I 2021-08-25 16:13:55,882]\u001b[0m Trial 62 finished with value: 0.07601106453254391 and parameters: {'num_trees': 110, 'learning_rate': 0.12, 'depth': 2, 'l2_leaf_reg': 1.0}. Best is trial 54 with value: 0.10254231703106459.\u001b[0m\n",
      "\u001b[32m[I 2021-08-25 16:14:01,550]\u001b[0m Trial 63 finished with value: 0.0866829123548104 and parameters: {'num_trees': 120, 'learning_rate': 0.060000000000000005, 'depth': 2, 'l2_leaf_reg': 1.0}. Best is trial 54 with value: 0.10254231703106459.\u001b[0m\n",
      "\u001b[32m[I 2021-08-25 16:14:07,714]\u001b[0m Trial 64 finished with value: 0.060907894507182314 and parameters: {'num_trees': 130, 'learning_rate': 0.02, 'depth': 2, 'l2_leaf_reg': 1.5}. Best is trial 54 with value: 0.10254231703106459.\u001b[0m\n",
      "\u001b[32m[I 2021-08-25 16:14:13,426]\u001b[0m Trial 65 finished with value: 0.07820156160619562 and parameters: {'num_trees': 110, 'learning_rate': 0.09999999999999999, 'depth': 2, 'l2_leaf_reg': 1.0}. Best is trial 54 with value: 0.10254231703106459.\u001b[0m\n",
      "\u001b[32m[I 2021-08-25 16:14:19,256]\u001b[0m Trial 66 finished with value: 0.0763828057423227 and parameters: {'num_trees': 120, 'learning_rate': 0.16, 'depth': 2, 'l2_leaf_reg': 1.0}. Best is trial 54 with value: 0.10254231703106459.\u001b[0m\n",
      "\u001b[32m[I 2021-08-25 16:14:24,040]\u001b[0m Trial 67 finished with value: 0.0772654470582993 and parameters: {'num_trees': 100, 'learning_rate': 0.12, 'depth': 2, 'l2_leaf_reg': 1.5}. Best is trial 54 with value: 0.10254231703106459.\u001b[0m\n",
      "\u001b[32m[I 2021-08-25 16:14:45,141]\u001b[0m Trial 68 finished with value: 0.08973814514520473 and parameters: {'num_trees': 130, 'learning_rate': 0.05, 'depth': 8, 'l2_leaf_reg': 1.5}. Best is trial 54 with value: 0.10254231703106459.\u001b[0m\n",
      "\u001b[32m[I 2021-08-25 16:15:06,283]\u001b[0m Trial 69 finished with value: 0.0817458869750145 and parameters: {'num_trees': 130, 'learning_rate': 0.04, 'depth': 8, 'l2_leaf_reg': 1.0}. Best is trial 54 with value: 0.10254231703106459.\u001b[0m\n",
      "\u001b[32m[I 2021-08-25 16:15:27,564]\u001b[0m Trial 70 finished with value: 0.07898691838352212 and parameters: {'num_trees': 140, 'learning_rate': 0.08, 'depth': 8, 'l2_leaf_reg': 1.5}. Best is trial 54 with value: 0.10254231703106459.\u001b[0m\n"
     ]
    },
    {
     "name": "stdout",
     "output_type": "stream",
     "text": [
      "\u001b[32m[I 2021-08-25 16:15:46,299]\u001b[0m Trial 71 finished with value: 0.08732015178061359 and parameters: {'num_trees': 120, 'learning_rate': 0.05, 'depth': 8, 'l2_leaf_reg': 1.5}. Best is trial 54 with value: 0.10254231703106459.\u001b[0m\n",
      "\u001b[32m[I 2021-08-25 16:16:05,805]\u001b[0m Trial 72 finished with value: 0.08092535602402007 and parameters: {'num_trees': 120, 'learning_rate': 0.060000000000000005, 'depth': 8, 'l2_leaf_reg': 1.0}. Best is trial 54 with value: 0.10254231703106459.\u001b[0m\n",
      "\u001b[32m[I 2021-08-25 16:16:26,805]\u001b[0m Trial 73 finished with value: 0.08401792540644337 and parameters: {'num_trees': 130, 'learning_rate': 0.01, 'depth': 8, 'l2_leaf_reg': 1.5}. Best is trial 54 with value: 0.10254231703106459.\u001b[0m\n",
      "\u001b[32m[I 2021-08-25 16:16:46,449]\u001b[0m Trial 74 finished with value: 0.08499703565918049 and parameters: {'num_trees': 120, 'learning_rate': 0.09, 'depth': 8, 'l2_leaf_reg': 1.0}. Best is trial 54 with value: 0.10254231703106459.\u001b[0m\n",
      "\u001b[32m[I 2021-08-25 16:17:04,770]\u001b[0m Trial 75 finished with value: 0.07935187858594484 and parameters: {'num_trees': 110, 'learning_rate': 0.03, 'depth': 8, 'l2_leaf_reg': 1.5}. Best is trial 54 with value: 0.10254231703106459.\u001b[0m\n",
      "\u001b[32m[I 2021-08-25 16:17:10,251]\u001b[0m Trial 76 finished with value: 0.07368190670543073 and parameters: {'num_trees': 110, 'learning_rate': 0.05, 'depth': 2, 'l2_leaf_reg': 1.0}. Best is trial 54 with value: 0.10254231703106459.\u001b[0m\n",
      "\u001b[32m[I 2021-08-25 16:17:30,075]\u001b[0m Trial 77 finished with value: 0.08049089102398033 and parameters: {'num_trees': 130, 'learning_rate': 0.11, 'depth': 8, 'l2_leaf_reg': 1.0}. Best is trial 54 with value: 0.10254231703106459.\u001b[0m\n",
      "\n"
     ]
    }
   ],
   "source": [
    "study_ct = optuna.create_study(direction='maximize')\n",
    "study_ct.optimize(objective, timeout=750, show_progress_bar=True)"
   ]
  },
  {
   "cell_type": "code",
   "execution_count": 16,
   "metadata": {},
   "outputs": [
    {
     "data": {
      "text/plain": [
       "{'num_trees': 110, 'learning_rate': 0.09, 'depth': 2, 'l2_leaf_reg': 1.0}"
      ]
     },
     "execution_count": 16,
     "metadata": {},
     "output_type": "execute_result"
    }
   ],
   "source": [
    "# Вывод лучших гиперпараметров\n",
    "study_ct.best_params"
   ]
  },
  {
   "cell_type": "markdown",
   "metadata": {},
   "source": [
    "Обучим модель и оценим ее на отдельной выборке."
   ]
  },
  {
   "cell_type": "code",
   "execution_count": 17,
   "metadata": {},
   "outputs": [],
   "source": [
    "tm_model = TwoModels(\n",
    "    CatBoostClassifier(**study_ct.best_params, verbose=False),\n",
    "    CatBoostClassifier(**study_ct.best_params, verbose=False),\n",
    "    method='vanilla'\n",
    ")"
   ]
  },
  {
   "cell_type": "code",
   "execution_count": 18,
   "metadata": {},
   "outputs": [],
   "source": [
    "tm_model = tm_model.fit(\n",
    "        X_train, y_train, treat_train,\n",
    "        estimator_trmnt_fit_params={'cat_features': cat_features},\n",
    "        estimator_ctrl_fit_params={'cat_features': cat_features}\n",
    ")"
   ]
  },
  {
   "cell_type": "markdown",
   "metadata": {},
   "source": [
    "## Валидация модели"
   ]
  },
  {
   "cell_type": "code",
   "execution_count": 19,
   "metadata": {},
   "outputs": [
    {
     "name": "stdout",
     "output_type": "stream",
     "text": [
      "Uplift@30%: 0.0839\n"
     ]
    }
   ],
   "source": [
    "tm_uplift = tm_model.predict(X_ho)\n",
    "uplift_at_score = uplift_at_k(y_true=y_ho, uplift=tm_uplift, treatment=treat_ho, strategy='overall', k=0.3)\n",
    "print(f\"Uplift@30%: {uplift_at_score:.4f}\")"
   ]
  },
  {
   "cell_type": "markdown",
   "metadata": {},
   "source": [
    "Прирост по сравнению с baseline составил 0,0052"
   ]
  },
  {
   "cell_type": "markdown",
   "metadata": {},
   "source": [
    "Выведем важность признаков"
   ]
  },
  {
   "cell_type": "code",
   "execution_count": 21,
   "metadata": {},
   "outputs": [
    {
     "data": {
      "text/html": [
       "<div>\n",
       "<style scoped>\n",
       "    .dataframe tbody tr th:only-of-type {\n",
       "        vertical-align: middle;\n",
       "    }\n",
       "\n",
       "    .dataframe tbody tr th {\n",
       "        vertical-align: top;\n",
       "    }\n",
       "\n",
       "    .dataframe thead th {\n",
       "        text-align: right;\n",
       "    }\n",
       "</style>\n",
       "<table border=\"1\" class=\"dataframe\">\n",
       "  <thead>\n",
       "    <tr style=\"text-align: right;\">\n",
       "      <th></th>\n",
       "      <th>feature_name</th>\n",
       "      <th>feature_score</th>\n",
       "    </tr>\n",
       "  </thead>\n",
       "  <tbody>\n",
       "    <tr>\n",
       "      <th>0</th>\n",
       "      <td>num_purchases</td>\n",
       "      <td>65.209282</td>\n",
       "    </tr>\n",
       "    <tr>\n",
       "      <th>1</th>\n",
       "      <td>first_redeem_time</td>\n",
       "      <td>27.992520</td>\n",
       "    </tr>\n",
       "    <tr>\n",
       "      <th>2</th>\n",
       "      <td>first_issue_time</td>\n",
       "      <td>4.158931</td>\n",
       "    </tr>\n",
       "    <tr>\n",
       "      <th>3</th>\n",
       "      <td>age</td>\n",
       "      <td>1.884279</td>\n",
       "    </tr>\n",
       "    <tr>\n",
       "      <th>4</th>\n",
       "      <td>avr_check</td>\n",
       "      <td>0.210992</td>\n",
       "    </tr>\n",
       "    <tr>\n",
       "      <th>5</th>\n",
       "      <td>gender</td>\n",
       "      <td>0.187816</td>\n",
       "    </tr>\n",
       "    <tr>\n",
       "      <th>6</th>\n",
       "      <td>issue_redeem_delay</td>\n",
       "      <td>0.144602</td>\n",
       "    </tr>\n",
       "    <tr>\n",
       "      <th>7</th>\n",
       "      <td>num_stores</td>\n",
       "      <td>0.117877</td>\n",
       "    </tr>\n",
       "    <tr>\n",
       "      <th>8</th>\n",
       "      <td>points_spent</td>\n",
       "      <td>0.093701</td>\n",
       "    </tr>\n",
       "  </tbody>\n",
       "</table>\n",
       "</div>"
      ],
      "text/plain": [
       "         feature_name  feature_score\n",
       "0       num_purchases      65.209282\n",
       "1   first_redeem_time      27.992520\n",
       "2    first_issue_time       4.158931\n",
       "3                 age       1.884279\n",
       "4           avr_check       0.210992\n",
       "5              gender       0.187816\n",
       "6  issue_redeem_delay       0.144602\n",
       "7          num_stores       0.117877\n",
       "8        points_spent       0.093701"
      ]
     },
     "execution_count": 21,
     "metadata": {},
     "output_type": "execute_result"
    }
   ],
   "source": [
    "features_imp_trmnt = pd.DataFrame({\n",
    "    'feature_name': tm_model.estimator_trmnt.feature_names_,\n",
    "    'feature_score': tm_model.estimator_trmnt.feature_importances_\n",
    "}).sort_values('feature_score', ascending=False).reset_index(drop=True)\n",
    "\n",
    "features_imp_trmnt"
   ]
  },
  {
   "cell_type": "code",
   "execution_count": 23,
   "metadata": {},
   "outputs": [
    {
     "data": {
      "text/html": [
       "<div>\n",
       "<style scoped>\n",
       "    .dataframe tbody tr th:only-of-type {\n",
       "        vertical-align: middle;\n",
       "    }\n",
       "\n",
       "    .dataframe tbody tr th {\n",
       "        vertical-align: top;\n",
       "    }\n",
       "\n",
       "    .dataframe thead th {\n",
       "        text-align: right;\n",
       "    }\n",
       "</style>\n",
       "<table border=\"1\" class=\"dataframe\">\n",
       "  <thead>\n",
       "    <tr style=\"text-align: right;\">\n",
       "      <th></th>\n",
       "      <th>feature_name</th>\n",
       "      <th>feature_score</th>\n",
       "    </tr>\n",
       "  </thead>\n",
       "  <tbody>\n",
       "    <tr>\n",
       "      <th>0</th>\n",
       "      <td>num_purchases</td>\n",
       "      <td>87.805923</td>\n",
       "    </tr>\n",
       "    <tr>\n",
       "      <th>1</th>\n",
       "      <td>first_issue_time</td>\n",
       "      <td>5.582086</td>\n",
       "    </tr>\n",
       "    <tr>\n",
       "      <th>2</th>\n",
       "      <td>first_redeem_time</td>\n",
       "      <td>4.895462</td>\n",
       "    </tr>\n",
       "    <tr>\n",
       "      <th>3</th>\n",
       "      <td>age</td>\n",
       "      <td>0.714433</td>\n",
       "    </tr>\n",
       "    <tr>\n",
       "      <th>4</th>\n",
       "      <td>points_spent</td>\n",
       "      <td>0.583007</td>\n",
       "    </tr>\n",
       "    <tr>\n",
       "      <th>5</th>\n",
       "      <td>num_stores</td>\n",
       "      <td>0.200062</td>\n",
       "    </tr>\n",
       "    <tr>\n",
       "      <th>6</th>\n",
       "      <td>avr_check</td>\n",
       "      <td>0.130909</td>\n",
       "    </tr>\n",
       "    <tr>\n",
       "      <th>7</th>\n",
       "      <td>issue_redeem_delay</td>\n",
       "      <td>0.088118</td>\n",
       "    </tr>\n",
       "    <tr>\n",
       "      <th>8</th>\n",
       "      <td>gender</td>\n",
       "      <td>0.000000</td>\n",
       "    </tr>\n",
       "  </tbody>\n",
       "</table>\n",
       "</div>"
      ],
      "text/plain": [
       "         feature_name  feature_score\n",
       "0       num_purchases      87.805923\n",
       "1    first_issue_time       5.582086\n",
       "2   first_redeem_time       4.895462\n",
       "3                 age       0.714433\n",
       "4        points_spent       0.583007\n",
       "5          num_stores       0.200062\n",
       "6           avr_check       0.130909\n",
       "7  issue_redeem_delay       0.088118\n",
       "8              gender       0.000000"
      ]
     },
     "execution_count": 23,
     "metadata": {},
     "output_type": "execute_result"
    }
   ],
   "source": [
    "features_imp_ctrl = pd.DataFrame({\n",
    "    'feature_name': tm_model.estimator_ctrl.feature_names_,\n",
    "    'feature_score': tm_model.estimator_ctrl.feature_importances_\n",
    "}).sort_values('feature_score', ascending=False).reset_index(drop=True)\n",
    "\n",
    "features_imp_ctrl"
   ]
  },
  {
   "cell_type": "markdown",
   "metadata": {},
   "source": [
    "Оценим модель по сегментам. Как она будет работать на пользователях моложе или старше 50 лет."
   ]
  },
  {
   "cell_type": "code",
   "execution_count": 32,
   "metadata": {},
   "outputs": [
    {
     "name": "stdout",
     "output_type": "stream",
     "text": [
      "Uplift@30%: 0.0561\n"
     ]
    }
   ],
   "source": [
    "segment1_x = X_ho[features_df['age'] < 50]\n",
    "segment1_y = y_ho[features_df['age'] < 50]\n",
    "segment1_tr = treat_ho[features_df['age'] < 50]\n",
    "\n",
    "seg1_uplift = tm_model.predict(segment1_x)\n",
    "uplift_at_seg1 = uplift_at_k(y_true=segment1_y, uplift=seg1_uplift, treatment=segment1_tr, strategy='overall', k=0.3)\n",
    "print(f\"Uplift@30%: {uplift_at_seg1:.4f}\")"
   ]
  },
  {
   "cell_type": "code",
   "execution_count": 33,
   "metadata": {},
   "outputs": [
    {
     "name": "stdout",
     "output_type": "stream",
     "text": [
      "Uplift@30%: 0.1120\n"
     ]
    }
   ],
   "source": [
    "segment2_x = X_ho[features_df['age'] > 50]\n",
    "segment2_y = y_ho[features_df['age'] > 50]\n",
    "segment2_tr = treat_ho[features_df['age'] > 50]\n",
    "\n",
    "seg2_uplift = tm_model.predict(segment2_x)\n",
    "uplift_at_seg2 = uplift_at_k(y_true=segment2_y, uplift=seg2_uplift, treatment=segment2_tr, strategy='overall', k=0.3)\n",
    "print(f\"Uplift@30%: {uplift_at_seg2:.4f}\")"
   ]
  },
  {
   "cell_type": "markdown",
   "metadata": {},
   "source": [
    "Как видно, модель в среднем лучше работает на пользователях старше 50 лет, и в среднем работает хуже на более молодых клиентах."
   ]
  },
  {
   "cell_type": "code",
   "execution_count": 38,
   "metadata": {},
   "outputs": [
    {
     "data": {
      "text/plain": [
       "<AxesSubplot:title={'center':'Uplift by percentile\\nweighted average uplift = 0.0304'}, xlabel='Percentile', ylabel='Uplift = treatment response rate - control response rate'>"
      ]
     },
     "execution_count": 38,
     "metadata": {},
     "output_type": "execute_result"
    },
    {
     "data": {
      "image/png": "[encoded data removed]",
      "text/plain": [
       "<Figure size 576x432 with 1 Axes>"
      ]
     },
     "metadata": {
      "needs_background": "light"
     },
     "output_type": "display_data"
    }
   ],
   "source": [
    "plot_uplift_by_percentile(y_true=y_ho, uplift=tm_uplift, treatment=treat_ho, strategy='overall', kind='line')"
   ]
  },
  {
   "cell_type": "code",
   "execution_count": 39,
   "metadata": {},
   "outputs": [
    {
     "data": {
      "text/plain": [
       "array([<AxesSubplot:title={'center':'Uplift by percentile\\nweighted average uplift = 0.0304'}>,\n",
       "       <AxesSubplot:title={'center':'Response rate by percentile'}, xlabel='Percentile'>],\n",
       "      dtype=object)"
      ]
     },
     "execution_count": 39,
     "metadata": {},
     "output_type": "execute_result"
    },
    {
     "data": {
      "image/png": "[encoded data removed]",
      "text/plain": [
       "<Figure size 576x432 with 2 Axes>"
      ]
     },
     "metadata": {
      "needs_background": "light"
     },
     "output_type": "display_data"
    }
   ],
   "source": [
    "plot_uplift_by_percentile(y_true=y_ho, uplift=tm_uplift, treatment=treat_ho, strategy='overall', kind='bar')"
   ]
  },
  {
   "cell_type": "markdown",
   "metadata": {},
   "source": [
    "Из графиков видно, что модель лучше ранжирует пользователей и ставит группу \"внушаемых\" в начало."
   ]
  },
  {
   "cell_type": "code",
   "execution_count": 41,
   "metadata": {},
   "outputs": [
    {
     "data": {
      "text/plain": [
       "<AxesSubplot:title={'center':'Qini curve\\nqini_auc_score=0.0250'}, xlabel='Number targeted', ylabel='Number of incremental outcome'>"
      ]
     },
     "execution_count": 41,
     "metadata": {},
     "output_type": "execute_result"
    },
    {
     "data": {
      "image/png": "[encoded data removed]",
      "text/plain": [
       "<Figure size 576x432 with 1 Axes>"
      ]
     },
     "metadata": {
      "needs_background": "light"
     },
     "output_type": "display_data"
    }
   ],
   "source": [
    "plot_qini_curve(y_true=y_ho, uplift=tm_uplift, treatment=treat_ho, perfect=False)"
   ]
  },
  {
   "cell_type": "markdown",
   "metadata": {},
   "source": [
    "Наша модель работает лучше, чем случайная, то есть результаты отличаются от простого угадывания."
   ]
  }
 ],
 "metadata": {
  "kernelspec": {
   "display_name": "Python 3",
   "language": "python",
   "name": "python3"
  },
  "language_info": {
   "codemirror_mode": {
    "name": "ipython",
    "version": 3
   },
   "file_extension": ".py",
   "mimetype": "text/x-python",
   "name": "python",
   "nbconvert_exporter": "python",
   "pygments_lexer": "ipython3",
   "version": "3.8.5"
  }
 },
 "nbformat": 4,
 "nbformat_minor": 4
}
